{
 "cells": [
  {
   "cell_type": "markdown",
   "metadata": {},
   "source": [
    "# Hierarchical clustering"
   ]
  },
  {
   "cell_type": "code",
   "execution_count": 2,
   "metadata": {},
   "outputs": [],
   "source": [
    "library(tidyverse)\n",
    "library(DataExplorer)\n",
    "library(grid)\n",
    "library(gridExtra)\n",
    "library(ggpubr)\n",
    "library(viridis)\n",
    "library(readxl)\n",
    "library(ggrepel)\n",
    "library(magrittr)\n",
    "library(ggsci)\n",
    "options(repr.plot.width=6, repr.plot.height=4,repr.plot.res =300)"
   ]
  },
  {
   "cell_type": "code",
   "execution_count": 3,
   "metadata": {},
   "outputs": [
    {
     "data": {
      "text/html": [
       "<table>\n",
       "<caption>A data.frame: 6 × 18</caption>\n",
       "<thead>\n",
       "\t<tr><th></th><th scope=col>Year</th><th scope=col>ProductionMonth</th><th scope=col>UID</th><th scope=col>CondINJ</th><th scope=col>Flare</th><th scope=col>Fuel</th><th scope=col>FuelINJ</th><th scope=col>GasConfidential</th><th scope=col>Method</th><th scope=col>Oil</th><th scope=col>Operation</th><th scope=col>Operator</th><th scope=col>Region</th><th scope=col>SOR</th><th scope=col>Scheme</th><th scope=col>SolutionGas</th><th scope=col>SteamINJ</th><th scope=col>Vent</th></tr>\n",
       "\t<tr><th></th><th scope=col>&lt;int&gt;</th><th scope=col>&lt;fct&gt;</th><th scope=col>&lt;int&gt;</th><th scope=col>&lt;dbl&gt;</th><th scope=col>&lt;dbl&gt;</th><th scope=col>&lt;int&gt;</th><th scope=col>&lt;dbl&gt;</th><th scope=col>&lt;dbl&gt;</th><th scope=col>&lt;fct&gt;</th><th scope=col>&lt;int&gt;</th><th scope=col>&lt;fct&gt;</th><th scope=col>&lt;fct&gt;</th><th scope=col>&lt;fct&gt;</th><th scope=col>&lt;dbl&gt;</th><th scope=col>&lt;fct&gt;</th><th scope=col>&lt;dbl&gt;</th><th scope=col>&lt;fct&gt;</th><th scope=col>&lt;dbl&gt;</th></tr>\n",
       "</thead>\n",
       "<tbody>\n",
       "\t<tr><th scope=row>1</th><td>2018</td><td>2018-04</td><td>17</td><td>NA</td><td> 18.3</td><td> 4552</td><td>NA</td><td>321.7</td><td>CSS </td><td>5217</td><td>CNULPR</td><td>Canadian Natural Upgrading Limited</td><td>Peace River</td><td> 7.587402</td><td>PeaceRiver</td><td> 551.3</td><td>39581.2 </td><td>NA</td></tr>\n",
       "\t<tr><th scope=row>2</th><td>2015</td><td>2015-02</td><td>16</td><td>NA</td><td>112.3</td><td>10040</td><td>NA</td><td>   NA</td><td>SAGD</td><td>5331</td><td>PGFLB </td><td>Pengrowth                         </td><td>Cold Lake  </td><td>22.289203</td><td>Lindbergh </td><td>1276.2</td><td>118828.2</td><td>NA</td></tr>\n",
       "\t<tr><th scope=row>3</th><td>2019</td><td>2019-07</td><td>17</td><td>NA</td><td> 59.1</td><td> 6586</td><td>NA</td><td>314.7</td><td>CSS </td><td>5376</td><td>CNULPR</td><td>Canadian Natural Upgrading Limited</td><td>Peace River</td><td>13.804461</td><td>PeaceRiver</td><td> 768.3</td><td>74211.4 </td><td>NA</td></tr>\n",
       "\t<tr><th scope=row>4</th><td>2018</td><td>2018-11</td><td>17</td><td>NA</td><td>  4.9</td><td> 7756</td><td>NA</td><td>401.4</td><td>CSS </td><td>6567</td><td>CNULPR</td><td>Canadian Natural Upgrading Limited</td><td>Peace River</td><td>11.913395</td><td>PeaceRiver</td><td>1141.7</td><td>78230.5 </td><td>NA</td></tr>\n",
       "\t<tr><th scope=row>5</th><td>2015</td><td>2015-04</td><td> 8</td><td>NA</td><td> 16.1</td><td>16148</td><td>NA</td><td>   NA</td><td>SAGD</td><td>7803</td><td>HSESR </td><td>Husky                             </td><td>Athabasca  </td><td>23.503505</td><td>Sunrise   </td><td> 117.4</td><td>183395.5</td><td>NA</td></tr>\n",
       "\t<tr><th scope=row>6</th><td>2019</td><td>2019-01</td><td>17</td><td>NA</td><td>  4.6</td><td> 7751</td><td>NA</td><td>349.0</td><td>CSS </td><td>8064</td><td>CNULPR</td><td>Canadian Natural Upgrading Limited</td><td>Peace River</td><td> 8.817989</td><td>PeaceRiver</td><td> 921.4</td><td>71106.5 </td><td>NA</td></tr>\n",
       "</tbody>\n",
       "</table>\n"
      ],
      "text/latex": [
       "A data.frame: 6 × 18\n",
       "\\begin{tabular}{r|llllllllllllllllll}\n",
       "  & Year & ProductionMonth & UID & CondINJ & Flare & Fuel & FuelINJ & GasConfidential & Method & Oil & Operation & Operator & Region & SOR & Scheme & SolutionGas & SteamINJ & Vent\\\\\n",
       "  & <int> & <fct> & <int> & <dbl> & <dbl> & <int> & <dbl> & <dbl> & <fct> & <int> & <fct> & <fct> & <fct> & <dbl> & <fct> & <dbl> & <fct> & <dbl>\\\\\n",
       "\\hline\n",
       "\t1 & 2018 & 2018-04 & 17 & NA &  18.3 &  4552 & NA & 321.7 & CSS  & 5217 & CNULPR & Canadian Natural Upgrading Limited & Peace River &  7.587402 & PeaceRiver &  551.3 & 39581.2  & NA\\\\\n",
       "\t2 & 2015 & 2015-02 & 16 & NA & 112.3 & 10040 & NA &    NA & SAGD & 5331 & PGFLB  & Pengrowth                          & Cold Lake   & 22.289203 & Lindbergh  & 1276.2 & 118828.2 & NA\\\\\n",
       "\t3 & 2019 & 2019-07 & 17 & NA &  59.1 &  6586 & NA & 314.7 & CSS  & 5376 & CNULPR & Canadian Natural Upgrading Limited & Peace River & 13.804461 & PeaceRiver &  768.3 & 74211.4  & NA\\\\\n",
       "\t4 & 2018 & 2018-11 & 17 & NA &   4.9 &  7756 & NA & 401.4 & CSS  & 6567 & CNULPR & Canadian Natural Upgrading Limited & Peace River & 11.913395 & PeaceRiver & 1141.7 & 78230.5  & NA\\\\\n",
       "\t5 & 2015 & 2015-04 &  8 & NA &  16.1 & 16148 & NA &    NA & SAGD & 7803 & HSESR  & Husky                              & Athabasca   & 23.503505 & Sunrise    &  117.4 & 183395.5 & NA\\\\\n",
       "\t6 & 2019 & 2019-01 & 17 & NA &   4.6 &  7751 & NA & 349.0 & CSS  & 8064 & CNULPR & Canadian Natural Upgrading Limited & Peace River &  8.817989 & PeaceRiver &  921.4 & 71106.5  & NA\\\\\n",
       "\\end{tabular}\n"
      ],
      "text/markdown": [
       "\n",
       "A data.frame: 6 × 18\n",
       "\n",
       "| <!--/--> | Year &lt;int&gt; | ProductionMonth &lt;fct&gt; | UID &lt;int&gt; | CondINJ &lt;dbl&gt; | Flare &lt;dbl&gt; | Fuel &lt;int&gt; | FuelINJ &lt;dbl&gt; | GasConfidential &lt;dbl&gt; | Method &lt;fct&gt; | Oil &lt;int&gt; | Operation &lt;fct&gt; | Operator &lt;fct&gt; | Region &lt;fct&gt; | SOR &lt;dbl&gt; | Scheme &lt;fct&gt; | SolutionGas &lt;dbl&gt; | SteamINJ &lt;fct&gt; | Vent &lt;dbl&gt; |\n",
       "|---|---|---|---|---|---|---|---|---|---|---|---|---|---|---|---|---|---|---|\n",
       "| 1 | 2018 | 2018-04 | 17 | NA |  18.3 |  4552 | NA | 321.7 | CSS  | 5217 | CNULPR | Canadian Natural Upgrading Limited | Peace River |  7.587402 | PeaceRiver |  551.3 | 39581.2  | NA |\n",
       "| 2 | 2015 | 2015-02 | 16 | NA | 112.3 | 10040 | NA |    NA | SAGD | 5331 | PGFLB  | Pengrowth                          | Cold Lake   | 22.289203 | Lindbergh  | 1276.2 | 118828.2 | NA |\n",
       "| 3 | 2019 | 2019-07 | 17 | NA |  59.1 |  6586 | NA | 314.7 | CSS  | 5376 | CNULPR | Canadian Natural Upgrading Limited | Peace River | 13.804461 | PeaceRiver |  768.3 | 74211.4  | NA |\n",
       "| 4 | 2018 | 2018-11 | 17 | NA |   4.9 |  7756 | NA | 401.4 | CSS  | 6567 | CNULPR | Canadian Natural Upgrading Limited | Peace River | 11.913395 | PeaceRiver | 1141.7 | 78230.5  | NA |\n",
       "| 5 | 2015 | 2015-04 |  8 | NA |  16.1 | 16148 | NA |    NA | SAGD | 7803 | HSESR  | Husky                              | Athabasca   | 23.503505 | Sunrise    |  117.4 | 183395.5 | NA |\n",
       "| 6 | 2019 | 2019-01 | 17 | NA |   4.6 |  7751 | NA | 349.0 | CSS  | 8064 | CNULPR | Canadian Natural Upgrading Limited | Peace River |  8.817989 | PeaceRiver |  921.4 | 71106.5  | NA |\n",
       "\n"
      ],
      "text/plain": [
       "  Year ProductionMonth UID CondINJ Flare Fuel  FuelINJ GasConfidential Method\n",
       "1 2018 2018-04         17  NA       18.3  4552 NA      321.7           CSS   \n",
       "2 2015 2015-02         16  NA      112.3 10040 NA         NA           SAGD  \n",
       "3 2019 2019-07         17  NA       59.1  6586 NA      314.7           CSS   \n",
       "4 2018 2018-11         17  NA        4.9  7756 NA      401.4           CSS   \n",
       "5 2015 2015-04          8  NA       16.1 16148 NA         NA           SAGD  \n",
       "6 2019 2019-01         17  NA        4.6  7751 NA      349.0           CSS   \n",
       "  Oil  Operation Operator                           Region      SOR      \n",
       "1 5217 CNULPR    Canadian Natural Upgrading Limited Peace River  7.587402\n",
       "2 5331 PGFLB     Pengrowth                          Cold Lake   22.289203\n",
       "3 5376 CNULPR    Canadian Natural Upgrading Limited Peace River 13.804461\n",
       "4 6567 CNULPR    Canadian Natural Upgrading Limited Peace River 11.913395\n",
       "5 7803 HSESR     Husky                              Athabasca   23.503505\n",
       "6 8064 CNULPR    Canadian Natural Upgrading Limited Peace River  8.817989\n",
       "  Scheme     SolutionGas SteamINJ Vent\n",
       "1 PeaceRiver  551.3      39581.2  NA  \n",
       "2 Lindbergh  1276.2      118828.2 NA  \n",
       "3 PeaceRiver  768.3      74211.4  NA  \n",
       "4 PeaceRiver 1141.7      78230.5  NA  \n",
       "5 Sunrise     117.4      183395.5 NA  \n",
       "6 PeaceRiver  921.4      71106.5  NA  "
      ]
     },
     "metadata": {},
     "output_type": "display_data"
    }
   ],
   "source": [
    "df <- read.csv(\"facility_2015_2019_v2.csv\")\n",
    "head(df)"
   ]
  },
  {
   "cell_type": "code",
   "execution_count": 4,
   "metadata": {},
   "outputs": [
    {
     "data": {
      "text/html": [
       "<table>\n",
       "<caption>A data.frame: 6 × 5</caption>\n",
       "<thead>\n",
       "\t<tr><th></th><th scope=col>Oil</th><th scope=col>SteamINJ</th><th scope=col>SolutionGas</th><th scope=col>Method</th><th scope=col>Region</th></tr>\n",
       "\t<tr><th></th><th scope=col>&lt;int&gt;</th><th scope=col>&lt;fct&gt;</th><th scope=col>&lt;dbl&gt;</th><th scope=col>&lt;fct&gt;</th><th scope=col>&lt;fct&gt;</th></tr>\n",
       "</thead>\n",
       "<tbody>\n",
       "\t<tr><th scope=row>1</th><td>5217</td><td>39581.2 </td><td> 551.3</td><td>CSS </td><td>Peace River</td></tr>\n",
       "\t<tr><th scope=row>2</th><td>5331</td><td>118828.2</td><td>1276.2</td><td>SAGD</td><td>Cold Lake  </td></tr>\n",
       "\t<tr><th scope=row>3</th><td>5376</td><td>74211.4 </td><td> 768.3</td><td>CSS </td><td>Peace River</td></tr>\n",
       "\t<tr><th scope=row>4</th><td>6567</td><td>78230.5 </td><td>1141.7</td><td>CSS </td><td>Peace River</td></tr>\n",
       "\t<tr><th scope=row>5</th><td>7803</td><td>183395.5</td><td> 117.4</td><td>SAGD</td><td>Athabasca  </td></tr>\n",
       "\t<tr><th scope=row>6</th><td>8064</td><td>71106.5 </td><td> 921.4</td><td>CSS </td><td>Peace River</td></tr>\n",
       "</tbody>\n",
       "</table>\n"
      ],
      "text/latex": [
       "A data.frame: 6 × 5\n",
       "\\begin{tabular}{r|lllll}\n",
       "  & Oil & SteamINJ & SolutionGas & Method & Region\\\\\n",
       "  & <int> & <fct> & <dbl> & <fct> & <fct>\\\\\n",
       "\\hline\n",
       "\t1 & 5217 & 39581.2  &  551.3 & CSS  & Peace River\\\\\n",
       "\t2 & 5331 & 118828.2 & 1276.2 & SAGD & Cold Lake  \\\\\n",
       "\t3 & 5376 & 74211.4  &  768.3 & CSS  & Peace River\\\\\n",
       "\t4 & 6567 & 78230.5  & 1141.7 & CSS  & Peace River\\\\\n",
       "\t5 & 7803 & 183395.5 &  117.4 & SAGD & Athabasca  \\\\\n",
       "\t6 & 8064 & 71106.5  &  921.4 & CSS  & Peace River\\\\\n",
       "\\end{tabular}\n"
      ],
      "text/markdown": [
       "\n",
       "A data.frame: 6 × 5\n",
       "\n",
       "| <!--/--> | Oil &lt;int&gt; | SteamINJ &lt;fct&gt; | SolutionGas &lt;dbl&gt; | Method &lt;fct&gt; | Region &lt;fct&gt; |\n",
       "|---|---|---|---|---|---|\n",
       "| 1 | 5217 | 39581.2  |  551.3 | CSS  | Peace River |\n",
       "| 2 | 5331 | 118828.2 | 1276.2 | SAGD | Cold Lake   |\n",
       "| 3 | 5376 | 74211.4  |  768.3 | CSS  | Peace River |\n",
       "| 4 | 6567 | 78230.5  | 1141.7 | CSS  | Peace River |\n",
       "| 5 | 7803 | 183395.5 |  117.4 | SAGD | Athabasca   |\n",
       "| 6 | 8064 | 71106.5  |  921.4 | CSS  | Peace River |\n",
       "\n"
      ],
      "text/plain": [
       "  Oil  SteamINJ SolutionGas Method Region     \n",
       "1 5217 39581.2   551.3      CSS    Peace River\n",
       "2 5331 118828.2 1276.2      SAGD   Cold Lake  \n",
       "3 5376 74211.4   768.3      CSS    Peace River\n",
       "4 6567 78230.5  1141.7      CSS    Peace River\n",
       "5 7803 183395.5  117.4      SAGD   Athabasca  \n",
       "6 8064 71106.5   921.4      CSS    Peace River"
      ]
     },
     "metadata": {},
     "output_type": "display_data"
    }
   ],
   "source": [
    "df_clustering <- df %>% select(Oil,SteamINJ,SolutionGas,Method,Region)\n",
    "head(df_clustering)"
   ]
  },
  {
   "cell_type": "code",
   "execution_count": 5,
   "metadata": {},
   "outputs": [],
   "source": [
    "df_clustering$Oil <- as.numeric(df_clustering$Oil)\n",
    "df_clustering$SteamINJ <- as.numeric(df_clustering$SteamINJ)\n",
    "df_clustering$SolutionGas <- as.numeric(df_clustering$SolutionGas)"
   ]
  },
  {
   "cell_type": "code",
   "execution_count": 6,
   "metadata": {},
   "outputs": [
    {
     "data": {
      "text/html": [
       "<table>\n",
       "<caption>A data.frame: 6 × 3</caption>\n",
       "<thead>\n",
       "\t<tr><th></th><th scope=col>Oil</th><th scope=col>SteamINJ</th><th scope=col>SolutionGas</th></tr>\n",
       "\t<tr><th></th><th scope=col>&lt;dbl&gt;</th><th scope=col>&lt;dbl&gt;</th><th scope=col>&lt;dbl&gt;</th></tr>\n",
       "</thead>\n",
       "<tbody>\n",
       "\t<tr><th scope=row>1</th><td>5217</td><td> 860</td><td> 551.3</td></tr>\n",
       "\t<tr><th scope=row>2</th><td>5331</td><td>  46</td><td>1276.2</td></tr>\n",
       "\t<tr><th scope=row>3</th><td>5376</td><td>1050</td><td> 768.3</td></tr>\n",
       "\t<tr><th scope=row>4</th><td>6567</td><td>1067</td><td>1141.7</td></tr>\n",
       "\t<tr><th scope=row>5</th><td>7803</td><td> 283</td><td> 117.4</td></tr>\n",
       "\t<tr><th scope=row>6</th><td>8064</td><td>1040</td><td> 921.4</td></tr>\n",
       "</tbody>\n",
       "</table>\n"
      ],
      "text/latex": [
       "A data.frame: 6 × 3\n",
       "\\begin{tabular}{r|lll}\n",
       "  & Oil & SteamINJ & SolutionGas\\\\\n",
       "  & <dbl> & <dbl> & <dbl>\\\\\n",
       "\\hline\n",
       "\t1 & 5217 &  860 &  551.3\\\\\n",
       "\t2 & 5331 &   46 & 1276.2\\\\\n",
       "\t3 & 5376 & 1050 &  768.3\\\\\n",
       "\t4 & 6567 & 1067 & 1141.7\\\\\n",
       "\t5 & 7803 &  283 &  117.4\\\\\n",
       "\t6 & 8064 & 1040 &  921.4\\\\\n",
       "\\end{tabular}\n"
      ],
      "text/markdown": [
       "\n",
       "A data.frame: 6 × 3\n",
       "\n",
       "| <!--/--> | Oil &lt;dbl&gt; | SteamINJ &lt;dbl&gt; | SolutionGas &lt;dbl&gt; |\n",
       "|---|---|---|---|\n",
       "| 1 | 5217 |  860 |  551.3 |\n",
       "| 2 | 5331 |   46 | 1276.2 |\n",
       "| 3 | 5376 | 1050 |  768.3 |\n",
       "| 4 | 6567 | 1067 | 1141.7 |\n",
       "| 5 | 7803 |  283 |  117.4 |\n",
       "| 6 | 8064 | 1040 |  921.4 |\n",
       "\n"
      ],
      "text/plain": [
       "  Oil  SteamINJ SolutionGas\n",
       "1 5217  860      551.3     \n",
       "2 5331   46     1276.2     \n",
       "3 5376 1050      768.3     \n",
       "4 6567 1067     1141.7     \n",
       "5 7803  283      117.4     \n",
       "6 8064 1040      921.4     "
      ]
     },
     "metadata": {},
     "output_type": "display_data"
    }
   ],
   "source": [
    "cluster_feature <- df_clustering[,1:3]\n",
    "head(cluster_feature)"
   ]
  },
  {
   "cell_type": "code",
   "execution_count": 7,
   "metadata": {},
   "outputs": [
    {
     "data": {
      "text/html": [
       "<table>\n",
       "<caption>A matrix: 6 × 3 of type dbl</caption>\n",
       "<thead>\n",
       "\t<tr><th scope=col>Oil</th><th scope=col>SteamINJ</th><th scope=col>SolutionGas</th></tr>\n",
       "</thead>\n",
       "<tbody>\n",
       "\t<tr><td>-0.9708361</td><td> 0.9094228</td><td>-0.5856261</td></tr>\n",
       "\t<tr><td>-0.9704683</td><td>-1.5914899</td><td>-0.5134744</td></tr>\n",
       "\t<tr><td>-0.9703232</td><td> 1.4931739</td><td>-0.5640274</td></tr>\n",
       "\t<tr><td>-0.9664812</td><td> 1.5454042</td><td>-0.5268616</td></tr>\n",
       "\t<tr><td>-0.9624940</td><td>-0.8633372</td><td>-0.6288137</td></tr>\n",
       "\t<tr><td>-0.9616521</td><td> 1.4624501</td><td>-0.5487888</td></tr>\n",
       "</tbody>\n",
       "</table>\n"
      ],
      "text/latex": [
       "A matrix: 6 × 3 of type dbl\n",
       "\\begin{tabular}{lll}\n",
       " Oil & SteamINJ & SolutionGas\\\\\n",
       "\\hline\n",
       "\t -0.9708361 &  0.9094228 & -0.5856261\\\\\n",
       "\t -0.9704683 & -1.5914899 & -0.5134744\\\\\n",
       "\t -0.9703232 &  1.4931739 & -0.5640274\\\\\n",
       "\t -0.9664812 &  1.5454042 & -0.5268616\\\\\n",
       "\t -0.9624940 & -0.8633372 & -0.6288137\\\\\n",
       "\t -0.9616521 &  1.4624501 & -0.5487888\\\\\n",
       "\\end{tabular}\n"
      ],
      "text/markdown": [
       "\n",
       "A matrix: 6 × 3 of type dbl\n",
       "\n",
       "| Oil | SteamINJ | SolutionGas |\n",
       "|---|---|---|\n",
       "| -0.9708361 |  0.9094228 | -0.5856261 |\n",
       "| -0.9704683 | -1.5914899 | -0.5134744 |\n",
       "| -0.9703232 |  1.4931739 | -0.5640274 |\n",
       "| -0.9664812 |  1.5454042 | -0.5268616 |\n",
       "| -0.9624940 | -0.8633372 | -0.6288137 |\n",
       "| -0.9616521 |  1.4624501 | -0.5487888 |\n",
       "\n"
      ],
      "text/plain": [
       "     Oil        SteamINJ   SolutionGas\n",
       "[1,] -0.9708361  0.9094228 -0.5856261 \n",
       "[2,] -0.9704683 -1.5914899 -0.5134744 \n",
       "[3,] -0.9703232  1.4931739 -0.5640274 \n",
       "[4,] -0.9664812  1.5454042 -0.5268616 \n",
       "[5,] -0.9624940 -0.8633372 -0.6288137 \n",
       "[6,] -0.9616521  1.4624501 -0.5487888 "
      ]
     },
     "metadata": {},
     "output_type": "display_data"
    }
   ],
   "source": [
    "feature_scale <- scale(cluster_feature)\n",
    "head(feature_scale)"
   ]
  },
  {
   "cell_type": "code",
   "execution_count": 8,
   "metadata": {},
   "outputs": [
    {
     "data": {
      "image/png": "[encoded data removed]",
      "text/plain": [
       "Plot with title \"Cluster Dendrogram\""
      ]
     },
     "metadata": {
      "image/png": {
       "height": 600,
       "width": 900
      },
      "text/plain": {
       "height": 600,
       "width": 900
      }
     },
     "output_type": "display_data"
    }
   ],
   "source": [
    "d <- dist(feature_scale)\n",
    "fitH <- hclust(d, \"ward.D2\")\n",
    "plot(fitH) "
   ]
  },
  {
   "cell_type": "code",
   "execution_count": 12,
   "metadata": {},
   "outputs": [
    {
     "ename": "ERROR",
     "evalue": "Error in rect(m[which[n]] + 0.66, par(\"usr\")[3L], m[which[n] + 1] + 0.33, : plot.new has not been called yet\n",
     "output_type": "error",
     "traceback": [
      "Error in rect(m[which[n]] + 0.66, par(\"usr\")[3L], m[which[n] + 1] + 0.33, : plot.new has not been called yet\nTraceback:\n",
      "1. rect.hclust(fitH, k = 4, border = \"red\")",
      "2. rect(m[which[n]] + 0.66, par(\"usr\")[3L], m[which[n] + 1] + 0.33, \n .     mean(rev(tree$height)[(k - 1):k]), border = border[n])"
     ]
    }
   ],
   "source": [
    "rect.hclust(fitH, k = 4, border = \"red\")"
   ]
  },
  {
   "cell_type": "code",
   "execution_count": null,
   "metadata": {},
   "outputs": [],
   "source": []
  }
 ],
 "metadata": {
  "kernelspec": {
   "display_name": "R",
   "language": "R",
   "name": "ir"
  },
  "language_info": {
   "codemirror_mode": "r",
   "file_extension": ".r",
   "mimetype": "text/x-r-source",
   "name": "R",
   "pygments_lexer": "r",
   "version": "3.6.1"
  }
 },
 "nbformat": 4,
 "nbformat_minor": 4
}
